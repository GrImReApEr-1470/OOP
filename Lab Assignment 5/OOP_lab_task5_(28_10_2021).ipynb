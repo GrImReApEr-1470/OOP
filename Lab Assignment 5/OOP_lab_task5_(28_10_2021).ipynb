{
  "nbformat": 4,
  "nbformat_minor": 0,
  "metadata": {
    "colab": {
      "name": "OOP_lab_task5_(28/10/2021).ipynb",
      "provenance": [],
      "authorship_tag": "ABX9TyMlKCwEqHKq/j6VYRi3ZiZR",
      "include_colab_link": true
    },
    "kernelspec": {
      "name": "python3",
      "display_name": "Python 3"
    },
    "language_info": {
      "name": "python"
    }
  },
  "cells": [
    {
      "cell_type": "markdown",
      "metadata": {
        "id": "view-in-github",
        "colab_type": "text"
      },
      "source": [
        "<a href=\"https://colab.research.google.com/github/GrImReApEr-1470/OOP/blob/main/Lab%20Assignment%205/OOP_lab_task5_(28_10_2021).ipynb\" target=\"_parent\"><img src=\"https://colab.research.google.com/assets/colab-badge.svg\" alt=\"Open In Colab\"/></a>"
      ]
    },
    {
      "cell_type": "markdown",
      "metadata": {
        "id": "0se7yrvj7tKG"
      },
      "source": [
        "1. Write a Python programme to create the parent class shape, derive the subclasses circle, square, and rectangle from the class shape, and demonstrate polymorphism in inheritance using a member function area ()."
      ]
    },
    {
      "cell_type": "code",
      "metadata": {
        "id": "N70jDBWo7r6n"
      },
      "source": [
        "from abc import ABC, abstractmethod\n",
        "from math import pi, pow\n",
        "\n",
        "\n",
        "class Shape(ABC):\n",
        "    @abstractmethod\n",
        "    def area(self):\n",
        "        pass\n",
        "\n",
        "\n",
        "class Circle(Shape):\n",
        "    def __init__(self, rad):\n",
        "        self.radius = rad\n",
        "\n",
        "    def area(self):\n",
        "        return round(pi * pow(self.radius, 2), 2)\n",
        "\n",
        "\n",
        "class Square(Shape):\n",
        "    def __init__(self, len):\n",
        "        self.side = len\n",
        "    \n",
        "    def area(self):\n",
        "        return round(pow(self.side, 2), 2)\n",
        "\n",
        "\n",
        "class Rectangle(Shape):\n",
        "    def __init__(self, a, b):\n",
        "        self.a = a\n",
        "        self.b = b\n",
        "    \n",
        "    def area(self):\n",
        "        return round(self.a * self.b, 2)\n"
      ],
      "execution_count": 2,
      "outputs": []
    },
    {
      "cell_type": "code",
      "metadata": {
        "colab": {
          "base_uri": "https://localhost:8080/"
        },
        "id": "t1S0swQGEhU0",
        "outputId": "29fe965f-8acc-4f0f-bf66-25ee2b47ef7e"
      },
      "source": [
        "circle = Circle(6)\n",
        "square = Square(9)\n",
        "rectangle = Rectangle(4, 20)\n",
        "\n",
        "print(\"Area of the circle =\", circle.area())\n",
        "print(\"Area of the square =\", square.area())\n",
        "print(\"Area of the rectangle =\", rectangle.area())\n"
      ],
      "execution_count": 3,
      "outputs": [
        {
          "output_type": "stream",
          "name": "stdout",
          "text": [
            "Area of the circle = 113.1\n",
            "Area of the square = 81.0\n",
            "Area of the rectangle = 80\n"
          ]
        }
      ]
    },
    {
      "cell_type": "markdown",
      "metadata": {
        "id": "kA13W0_YKcs2"
      },
      "source": [
        "2. The family has decided to travel by road from Dharwad to Belagavi, and they have chosen to estimate the cost before starting on this journey. Write python code to create the parent class Travel with member functions include the number of passengers, the distance travelled, and the mode of transportation. Derive two subclasses, train and bus, from the parent class, each with a member function that calculates the cost of trip. Also, keep the numbers of passengers as a private member of the parent class and try to access it through the child class to estimate costs.\n",
        "\n",
        "[Note: Assume cost of travelling / person through train = 60 rs, cost of travelling / person through bus = 100 rs]."
      ]
    },
    {
      "cell_type": "code",
      "metadata": {
        "id": "36Y-tPtoK-WD"
      },
      "source": [
        "from abc import ABC, abstractmethod\n",
        "\n",
        "class travel:\n",
        "    def __init__(self ,passengers ,dist ,mode):\n",
        "        \n",
        "        self.__count = passengers\n",
        "        self.distance = dist\n",
        "        self.mode = mode\n",
        "    \n",
        "    def get_count(self):\n",
        "        return self.__count\n",
        "    \n",
        "    @abstractmethod\n",
        "    def total_cost(self):\n",
        "        pass\n",
        "\n",
        "\n",
        "class Bus(travel):\n",
        "    def __init__(self, passengers, dist, mode=\"Bus\"):\n",
        "        super().__init__(passengers, dist, mode)\n",
        "        self.cost = 100\n",
        "    \n",
        "    def total_cost(self):\n",
        "        return self.cost*self.get_count()\n",
        "    \n",
        "\n",
        "class Train(travel):\n",
        "    def __init__(self ,passengers ,dist ,mode=\"Train\"):\n",
        "        super().__init__(passengers, dist, mode)\n",
        "        self.cost = 60\n",
        "    \n",
        "    def total_cost(self):\n",
        "        return self.cost*self.get_count()\n"
      ],
      "execution_count": 4,
      "outputs": []
    },
    {
      "cell_type": "code",
      "metadata": {
        "colab": {
          "base_uri": "https://localhost:8080/"
        },
        "id": "VvdvTUhSTUX9",
        "outputId": "d150cfc1-c983-49b6-e8ef-13f71ea6a777"
      },
      "source": [
        "bus = Bus(15, 70)\n",
        "print(\"Total costs by bus =\", bus.total_cost())\n",
        "\n",
        "train =Train(20, 100)\n",
        "print(\"Total costs by train =\", train.total_cost())\n"
      ],
      "execution_count": 5,
      "outputs": [
        {
          "output_type": "stream",
          "name": "stdout",
          "text": [
            "Total costs by bus = 1500\n",
            "Total costs by train = 1200\n"
          ]
        }
      ]
    },
    {
      "cell_type": "markdown",
      "metadata": {
        "id": "9m6xXYDnTg5h"
      },
      "source": [
        "3. Assume that there a class Car with model number as its member variable. Write a python program to swap the values of model number in Car objects c1 and c2."
      ]
    },
    {
      "cell_type": "code",
      "metadata": {
        "id": "HhLDuvBub6t3"
      },
      "source": [
        "class car: \n",
        "    def __init__(self ,model_no):\n",
        "        self.model_no = model_no\n",
        "\n",
        "def swap_model(c1, c2):\n",
        "    c1.model_no ,c2.model_no = c2.model_no ,c1.model_no\n",
        "    print(\"model number swapped...\")\n"
      ],
      "execution_count": 6,
      "outputs": []
    },
    {
      "cell_type": "code",
      "metadata": {
        "colab": {
          "base_uri": "https://localhost:8080/"
        },
        "id": "KiVTwbjpcDSA",
        "outputId": "360e60cb-3b32-4b72-a760-7e0a9c112400"
      },
      "source": [
        "c1 ,c2 = car(1011547) ,car(2917406)\n",
        "print(\"Model1:\", c1.model_no, \"\\tModel2:\", c2.model_no)\n",
        "swap_model(c1, c2)\n",
        "print(\"Model1:\", c1.model_no, \"\\tModel2:\", c2.model_no)\n"
      ],
      "execution_count": 7,
      "outputs": [
        {
          "output_type": "stream",
          "name": "stdout",
          "text": [
            "Model1: 1011547 \tModel2: 2917406\n",
            "model number swapped...\n",
            "Model1: 2917406 \tModel2: 1011547\n"
          ]
        }
      ]
    }
  ]
}