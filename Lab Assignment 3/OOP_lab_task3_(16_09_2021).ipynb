{
  "nbformat": 4,
  "nbformat_minor": 0,
  "metadata": {
    "colab": {
      "name": "OOP_lab_task3_(16/09/2021).ipynb",
      "provenance": [],
      "authorship_tag": "ABX9TyNLU19ZDhuEF6TjVEJj7iNb",
      "include_colab_link": true
    },
    "kernelspec": {
      "name": "python3",
      "display_name": "Python 3"
    },
    "language_info": {
      "name": "python"
    }
  },
  "cells": [
    {
      "cell_type": "markdown",
      "metadata": {
        "id": "view-in-github",
        "colab_type": "text"
      },
      "source": [
        "<a href=\"https://colab.research.google.com/github/GrImReApEr-1470/OOP/blob/main/Lab%20Assignment%203/OOP_lab_task3_(16_09_2021).ipynb\" target=\"_parent\"><img src=\"https://colab.research.google.com/assets/colab-badge.svg\" alt=\"Open In Colab\"/></a>"
      ]
    },
    {
      "cell_type": "markdown",
      "metadata": {
        "id": "hAw1AzyPs9DB"
      },
      "source": [
        "Problem 1\n",
        "\n",
        "Write a python program to demonstrate the inheritance principle of OOP. Create a\n",
        "Student class that includes student’s basic information : Name, Reg no, Age, Gender,\n",
        "Branch, Sem. Define functions to read and display basic information. Create a new class\n",
        "StudentResultInfo that inherits from Student class. Derived class will include student’s\n",
        "total marks, percentage and grade. Display student’s basic information and result\n",
        "information using derived class."
      ]
    },
    {
      "cell_type": "code",
      "metadata": {
        "id": "vc35-4KYl2cF"
      },
      "source": [
        "class Student():\n",
        "    \n",
        "    def __init__(self, name, reg_no, age, gender, branch, sem):\n",
        "        self.name = name\n",
        "        self.reg_no = reg_no\n",
        "        self.age = age\n",
        "        self.gender = gender\n",
        "        self.branch = branch\n",
        "        self.sem = sem\n",
        "    \n",
        "    def show_info(self):\n",
        "        print(f\"Name: {self.name}\")\n",
        "        print(f\"Reg no: {self.reg_no}\")\n",
        "        print(f\"Age: {self.age}\")\n",
        "        print(f\"Gender: {self.gender}\")\n",
        "        print(f\"Branch: {self.branch}\")\n",
        "        print(f\"Sem: {self.sem}\")\n",
        "    \n",
        "class StudentResultInfo(Student):\n",
        "    def __init__(self, name, reg_no, age, gender, branch, sem, marks, percentage, grade):\n",
        "        Student.__init__(self, name, reg_no, age, gender, branch, sem)\n",
        "        self.marks = marks\n",
        "        self.percentage = percentage\n",
        "        self.grade = grade\n",
        "    \n",
        "    def show_info(self):\n",
        "        Student.show_info(self)\n",
        "        print(f\"Total marks: {self.marks}\")\n",
        "        print(f\"Percentage: {self.percentage}\")\n",
        "        print(f\"Grade: {self.grade}\")\n"
      ],
      "execution_count": 19,
      "outputs": []
    },
    {
      "cell_type": "code",
      "metadata": {
        "colab": {
          "base_uri": "https://localhost:8080/",
          "height": 0
        },
        "id": "uLtF6P96wS2B",
        "outputId": "eed949c1-c05b-473e-a5c7-973fc8905e65"
      },
      "source": [
        "s1 = StudentResultInfo(\"Ram\", \"20bcs000\", 19, \"M\", \"CSE\", 3, 500, 100, \"A\")\n",
        "\n",
        "s1.show_info()"
      ],
      "execution_count": 20,
      "outputs": [
        {
          "output_type": "stream",
          "name": "stdout",
          "text": [
            "Name: Ram\n",
            "Reg no: 20bcs000\n",
            "Age: 19\n",
            "Gender: M\n",
            "Branch: CSE\n",
            "Sem: 3\n",
            "Total marks: 500\n",
            "Percentage: 100\n",
            "Grade: A\n"
          ]
        }
      ]
    },
    {
      "cell_type": "markdown",
      "metadata": {
        "id": "3jsZ6WI6ySRB"
      },
      "source": [
        "Problem 2\n",
        "\n",
        "Imagine you&#39;re writing a Content Management system - this system will store two types\n",
        "of documents.\n",
        "\n",
        "o PDFs (who created, description, file size)\n",
        "\n",
        "o Pictures (who created, description, image dimensions, file size)\n",
        "\n",
        "Imagine you&#39;re now asked to add a few features:\n",
        "\n",
        "o Checking to see whether the file size is beyond a certain threshold.\n",
        "\n",
        "o Display the details of document.\n",
        "\n",
        "o Checking to see whether it&#39;s too high of dimension of picture.\n",
        "\n",
        "Note: use inheritance concept to reduce length of code."
      ]
    },
    {
      "cell_type": "code",
      "metadata": {
        "id": "iQzobEzLy04J"
      },
      "source": [
        "class genral_file_info():\n",
        "    def __init__(self, creator, info, size):\n",
        "        self.creator = creator\n",
        "        self.description = info\n",
        "        self.file_size = size\n",
        "    \n",
        "    def display_info(self):\n",
        "        print(f\"Creator: {self.creator}\")\n",
        "        print(f\"Description: {self.description}\")\n",
        "        print(f\"File Size: {self.file_size}\")\n",
        "\n",
        "class PDFs(genral_file_info):\n",
        "    \n",
        "    def __init__(self, creator, info, size):\n",
        "        genral_file_info.__init__(self, creator, info, size)\n",
        "    \n",
        "    def check_size(self, max_size):\n",
        "        if self.file_size > max_size:\n",
        "            print(\"Size limit exceeded.\")\n",
        "        else:\n",
        "            print(\"file within size limit.\")\n",
        "    \n",
        "    def display_info(self):\n",
        "        genral_file_info.display_info(self)\n",
        "    \n",
        "class Pictures(genral_file_info):\n",
        "    \n",
        "    def __init__(self, creator, info, size, height, width):\n",
        "        genral_file_info.__init__(self, creator, info, size)\n",
        "        self.dimentions = [height, width]\n",
        "    \n",
        "    def check_size(self, max_size):\n",
        "        if self.file_size > max_size:\n",
        "            print(\"Size limit exceeded.\")\n",
        "        else:\n",
        "            print(\"file within size limit.\")\n",
        "    \n",
        "    def display_info(self):\n",
        "        genral_file_info.display_info(self)\n",
        "        print(f\"Dimentions: {self.dimentions[0]}X{self.dimentions[1]}\")\n",
        "    \n",
        "    def check_dimentions(self, max_height, max_width):\n",
        "        if self.dimentions[0] < max_height and self.dimentions[1] < max_width:\n",
        "            print(\"Picture fits within given dimentions\")\n",
        "        else:\n",
        "            print(\"Picture exceeds the max dimentions\")\n",
        "        \n"
      ],
      "execution_count": 23,
      "outputs": []
    },
    {
      "cell_type": "code",
      "metadata": {
        "colab": {
          "base_uri": "https://localhost:8080/",
          "height": 0
        },
        "id": "XVHyB2OA5fju",
        "outputId": "69b82b3a-cadd-498b-daa9-78e75275fd80"
      },
      "source": [
        "f1 = PDFs(\"ABC CDE\", \"This is a PDF.\", 200)\n",
        "f2 = Pictures(\"BCD DEF\", \"This is a picture\", 200, 10, 7)\n",
        "\n",
        "f1.display_info()\n",
        "print(\"\")\n",
        "f1.check_size(200)\n",
        "print(\"\\n\")\n",
        "f2.display_info()\n",
        "print(\"\")\n",
        "f2.check_size(150)\n",
        "print(\"\")\n",
        "f2.check_dimentions(20, 20)\n"
      ],
      "execution_count": 25,
      "outputs": [
        {
          "output_type": "stream",
          "name": "stdout",
          "text": [
            "Creator: ABC CDE\n",
            "Description: This is a PDF.\n",
            "File Size: 200\n",
            "\n",
            "file within size limit.\n",
            "\n",
            "\n",
            "Creator: BCD DEF\n",
            "Description: This is a picture\n",
            "File Size: 200\n",
            "Dimentions: 10X7\n",
            "\n",
            "Size limit exceeded.\n",
            "\n",
            "Picture fits within given dimentions\n"
          ]
        }
      ]
    },
    {
      "cell_type": "markdown",
      "metadata": {
        "id": "Cbym7yGa6wJO"
      },
      "source": [
        "Problem 3\n",
        "\n",
        "Create vehicle class with data member’s name, mileage and capacity and member\n",
        "function bus fare. Create a Bus child class that inherits from the Vehicle class. \n",
        "\n",
        "The default fare charge of any vehicle is seating capacity * 100. If Vehicle is Bus instance, we need to add an extra 10% on full fare as a maintenance charge. So total fare for bus instance will become the \n",
        "\n",
        "final amount = total fare + 10% of the total fare.\n",
        "\n",
        "Note: The bus seating capacity is 50."
      ]
    },
    {
      "cell_type": "code",
      "metadata": {
        "id": "lDWrlJRJ7L69"
      },
      "source": [
        "class Vehicle:\n",
        "    def __init__(self, name, mileage, capacity=50):\n",
        "        self.name = name\n",
        "        self.mileage = mileage\n",
        "        self.capacity = capacity\n",
        "    \n",
        "    def show_info(self):\n",
        "        print(f\"Vehicle Name: {self.name}\")\n",
        "        print(f\"Mileage: {self.mileage}\")\n",
        "        print(f\"Capacity: {self.capacity}\")\n",
        "    \n",
        "    def fare(self):\n",
        "        return self.capacity * 100\n",
        "    \n",
        "\n",
        "class Bus(Vehicle):\n",
        "    \n",
        "    def fare(self):\n",
        "        total_fare = 1.1 * Vehicle.fare(self)\n",
        "        return total_fare\n",
        "    \n",
        "    def show_info(self):\n",
        "        Vehicle.show_info(self)\n",
        "    \n"
      ],
      "execution_count": 26,
      "outputs": []
    },
    {
      "cell_type": "code",
      "metadata": {
        "colab": {
          "base_uri": "https://localhost:8080/",
          "height": 0
        },
        "id": "HyQ3W6lNCvnn",
        "outputId": "e2b03995-f2d6-4678-9fec-c4d17d3f1f6d"
      },
      "source": [
        "v1 = Bus(\"ABC CDE\", 15, 50)\n",
        "v1.show_info()\n",
        "print(f\"Total fare = {v1.fare()}\")\n"
      ],
      "execution_count": 28,
      "outputs": [
        {
          "output_type": "stream",
          "name": "stdout",
          "text": [
            "Vehicle Name: ABC CDE\n",
            "Mileage: 15\n",
            "Capacity: 50\n",
            "Total fare = 5500.0\n"
          ]
        }
      ]
    }
  ]
}