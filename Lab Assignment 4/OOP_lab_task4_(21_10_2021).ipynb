{
  "nbformat": 4,
  "nbformat_minor": 0,
  "metadata": {
    "colab": {
      "name": "OOP_lab_task4_(21/10/2021).ipynb",
      "provenance": [],
      "authorship_tag": "ABX9TyMDigTyu4QywzYxeWm0X5a8",
      "include_colab_link": true
    },
    "kernelspec": {
      "name": "python3",
      "display_name": "Python 3"
    },
    "language_info": {
      "name": "python"
    }
  },
  "cells": [
    {
      "cell_type": "markdown",
      "metadata": {
        "id": "view-in-github",
        "colab_type": "text"
      },
      "source": [
        "<a href=\"https://colab.research.google.com/github/GrImReApEr-1470/OOP/blob/main/Lab%20Assignment%204/OOP_lab_task4_(21_10_2021).ipynb\" target=\"_parent\"><img src=\"https://colab.research.google.com/assets/colab-badge.svg\" alt=\"Open In Colab\"/></a>"
      ]
    },
    {
      "cell_type": "markdown",
      "metadata": {
        "id": "7VjRlqQ25I_Y"
      },
      "source": [
        "1. Write a python code to create a class node with data and address of next node as\n",
        "parameters. Derive stack class from node class with top position or head node position as a\n",
        "parameter and also perform the following operations.\n",
        "\n",
        "  a. Check stack is empty\n",
        "\n",
        "  b. Add data to stack\n",
        "  \n",
        "  c. Delete data from the stack.\n",
        "  \n",
        "  d. Display the elements of the stack.\n",
        "  \n",
        "  e. Deallocate the memory assigned to each node using destructors."
      ]
    },
    {
      "cell_type": "code",
      "metadata": {
        "id": "GVhUXbp_44u-"
      },
      "source": [
        "class Node:\n",
        "    def __init__(self, data):\n",
        "        self.data = data\n",
        "        self.next = None\n",
        "\n",
        "    def __del__(self):\n",
        "        print(self.data, 'deleted.', sep=' ')\n",
        "\n",
        "\n",
        "class Stack:\n",
        "    def __init__(self):\n",
        "        self.head = None\n",
        "\n",
        "    def isempty(self):\n",
        "        return self.head is None\n",
        "\n",
        "    def push(self, data):\n",
        "        if self.head is None:\n",
        "            self.head = Node(data)\n",
        "        else:\n",
        "            new = Node(data)\n",
        "            new.next = self.head\n",
        "            self.head = new\n",
        "\n",
        "    def pop(self):\n",
        "        if self.isempty():\n",
        "            return None\n",
        "        else:\n",
        "            temp = self.head\n",
        "            self.head = self.head.next\n",
        "            del temp\n",
        "            return\n",
        "\n",
        "    def display(self):\n",
        "        temp = self.head\n",
        "        print(\"Stack: \", end='')\n",
        "        while temp is not None:\n",
        "            print(temp.data, end=\" \")\n",
        "            temp = temp.next\n",
        "\n",
        "        print('')\n",
        "        return\n",
        "\n",
        "    def __del__(self):\n",
        "        print(\"\\n\\nEnd of program.\")\n",
        "        temp = self.head\n",
        "        while temp is not None:\n",
        "            temp1 = temp.next\n",
        "            del temp\n",
        "            temp = temp1\n",
        "        return\n"
      ],
      "execution_count": 1,
      "outputs": []
    },
    {
      "cell_type": "code",
      "metadata": {
        "colab": {
          "base_uri": "https://localhost:8080/",
          "height": 0
        },
        "id": "jTA0Tmpv5lbs",
        "outputId": "be819b20-cedd-40b7-f60f-876e250ec908"
      },
      "source": [
        "a = Stack()\n",
        "\n",
        "a.push(1)\n",
        "a.push(2)\n",
        "a.push(3)\n",
        "a.push(4)\n",
        "a.push(5)\n",
        "a.push(6)\n",
        "a.push(7)\n",
        "a.push(8)\n",
        "\n",
        "a.display()\n",
        "\n",
        "a.pop()\n",
        "a.pop()\n",
        "\n",
        "a.display()\n",
        "\n",
        "del a\n"
      ],
      "execution_count": 2,
      "outputs": [
        {
          "output_type": "stream",
          "name": "stdout",
          "text": [
            "Stack: 8 7 6 5 4 3 2 1 \n",
            "8 deleted.\n",
            "7 deleted.\n",
            "Stack: 6 5 4 3 2 1 \n",
            "\n",
            "\n",
            "End of program.\n",
            "6 deleted.\n",
            "5 deleted.\n",
            "4 deleted.\n",
            "3 deleted.\n",
            "2 deleted.\n",
            "1 deleted.\n"
          ]
        }
      ]
    },
    {
      "cell_type": "markdown",
      "metadata": {
        "id": "-j7Obsay5xOv"
      },
      "source": [
        "2. Write a python code to calculate the area of a rectangle using parametrized and default constructors."
      ]
    },
    {
      "cell_type": "code",
      "metadata": {
        "colab": {
          "base_uri": "https://localhost:8080/",
          "height": 0
        },
        "id": "iTyCqsB4514X",
        "outputId": "cf2aa831-1ef2-402f-8403-521711586fa2"
      },
      "source": [
        "class Rectangle:\n",
        "    def __init__(self, len, w):\n",
        "        self.len = len\n",
        "        self.wid = w\n",
        "\n",
        "    def rectangle_area(self):\n",
        "        return self.len * self.wid\n",
        "\n",
        "\n",
        "Rect = Rectangle(4, 20)\n",
        "print(\"Area =\", Rect.rectangle_area())\n"
      ],
      "execution_count": 3,
      "outputs": [
        {
          "output_type": "stream",
          "name": "stdout",
          "text": [
            "Area = 80\n"
          ]
        }
      ]
    },
    {
      "cell_type": "markdown",
      "metadata": {
        "id": "FYhsxnch5-kE"
      },
      "source": [
        "3. Write a python program to implement queue operations using constructors and destructors."
      ]
    },
    {
      "cell_type": "code",
      "metadata": {
        "id": "bOStuxvF6CkX"
      },
      "source": [
        "class Queue(object):\n",
        "    def __init__(self, size):\n",
        "        self.queue = []\n",
        "        self.size = size\n",
        "\n",
        "    def enqueue(self, item):\n",
        "        if not self.isfull():\n",
        "            self.queue.insert(0, item)\n",
        "        else:\n",
        "            print('Queue is Full!')\n",
        "\n",
        "    def dequeue(self):\n",
        "        if not self.isempty():\n",
        "            return self.queue.pop()\n",
        "        else:\n",
        "            print('Queue is Empty!')\n",
        "\n",
        "    def isempty(self):\n",
        "        return self.queue == []\n",
        "\n",
        "    def isfull(self):\n",
        "        return len(self.queue) == self.size\n",
        "\n",
        "    def display(self):\n",
        "        print(\"Queue:\", ' '.join(str(i) for i in self.queue))\n",
        "\n",
        "    def __del__(self):\n",
        "        print(\"End of prog. Queue deallocated.\")\n"
      ],
      "execution_count": 4,
      "outputs": []
    },
    {
      "cell_type": "code",
      "metadata": {
        "colab": {
          "base_uri": "https://localhost:8080/",
          "height": 0
        },
        "id": "fxLh74E26JHO",
        "outputId": "24bc4671-437f-4404-f467-7e53eb4d6adc"
      },
      "source": [
        "a = Queue(10)\n",
        "a.enqueue(1)\n",
        "a.enqueue(2)\n",
        "a.enqueue(3)\n",
        "a.enqueue(4)\n",
        "a.enqueue(5)\n",
        "a.enqueue(6)\n",
        "\n",
        "a.display()\n",
        "\n",
        "a.dequeue()\n",
        "a.dequeue()\n",
        "\n",
        "a.display()\n",
        "del a\n"
      ],
      "execution_count": 6,
      "outputs": [
        {
          "output_type": "stream",
          "name": "stdout",
          "text": [
            "End of prog. Queue deallocated.\n",
            "Queue: 6 5 4 3 2 1\n",
            "Queue: 6 5 4 3\n",
            "End of prog. Queue deallocated.\n"
          ]
        }
      ]
    }
  ]
}