{
  "nbformat": 4,
  "nbformat_minor": 0,
  "metadata": {
    "colab": {
      "name": "practice3.ipynb",
      "provenance": [],
      "authorship_tag": "ABX9TyOhW/Vrzx1HbaRaWuUxeklc",
      "include_colab_link": true
    },
    "kernelspec": {
      "name": "python3",
      "display_name": "Python 3"
    },
    "language_info": {
      "name": "python"
    }
  },
  "cells": [
    {
      "cell_type": "markdown",
      "metadata": {
        "id": "view-in-github",
        "colab_type": "text"
      },
      "source": [
        "<a href=\"https://colab.research.google.com/github/GrImReApEr-1470/OOP/blob/main/A3(03-09-21)/practice3.ipynb\" target=\"_parent\"><img src=\"https://colab.research.google.com/assets/colab-badge.svg\" alt=\"Open In Colab\"/></a>"
      ]
    },
    {
      "cell_type": "markdown",
      "metadata": {
        "id": "9Y0LmRsJ3dde"
      },
      "source": [
        "Public data members"
      ]
    },
    {
      "cell_type": "code",
      "metadata": {
        "colab": {
          "base_uri": "https://localhost:8080/"
        },
        "id": "eudGR-8g2Fsh",
        "outputId": "745883c9-256a-41a8-deaf-b81278fc9def"
      },
      "source": [
        "%%writefile OOP-Encapsulation-public_data_members.cpp\n",
        "#include<iostream>\n",
        "using namespace std;\n",
        "\n",
        "class a\n",
        "{\n",
        "    public:\n",
        "        int x;\n",
        "        char y;\n",
        "};\n",
        "\n",
        "int main(){\n",
        "   a obj;               # obj can access x and y because they are public data members.\n",
        "   obj.x = 10;\n",
        "   obj.y = 'a';\n",
        "   cout<<obj.x<<endl;\n",
        "   cout<<obj.y<<endl;\n",
        "   return 0;\n",
        "}"
      ],
      "execution_count": 4,
      "outputs": [
        {
          "output_type": "stream",
          "name": "stdout",
          "text": [
            "Overwriting OOP-Encapsulation-public_data_members.cpp\n"
          ]
        }
      ]
    },
    {
      "cell_type": "code",
      "metadata": {
        "colab": {
          "base_uri": "https://localhost:8080/"
        },
        "id": "YkgtzaYV23rK",
        "outputId": "26bdfc8d-20ea-4dc4-b403-187df4cb04c1"
      },
      "source": [
        "%%shell\n",
        "g++ OOP-Encapsulation-public_data_members.cpp -o output1\n",
        "./output1"
      ],
      "execution_count": 5,
      "outputs": [
        {
          "output_type": "stream",
          "name": "stdout",
          "text": [
            "10\n",
            "a\n"
          ]
        },
        {
          "output_type": "execute_result",
          "data": {
            "text/plain": [
              ""
            ]
          },
          "metadata": {},
          "execution_count": 5
        }
      ]
    },
    {
      "cell_type": "markdown",
      "metadata": {
        "id": "1oZfzjYS3iGx"
      },
      "source": [
        "Program 2 - C++ - Encapsulation- Private Variables"
      ]
    },
    {
      "cell_type": "code",
      "metadata": {
        "colab": {
          "base_uri": "https://localhost:8080/"
        },
        "id": "LIuoxS4q3rTY",
        "outputId": "fdfa3eb0-2f65-48b2-86c6-f5d0ecb80ea3"
      },
      "source": [
        "%%writefile OOP-Encapsulation-private_data_members.cpp\n",
        "#include<iostream>\n",
        "using namespace std;\n",
        "class ExampleEncap{\n",
        "private:\n",
        "   /* Since we have marked these data members private, any entity outside this class cannot access these\n",
        "    * data members directly, they have to use getter and setter functions. */\n",
        "   int num;\n",
        "   char ch;\n",
        "public:\n",
        "   /* Getter functions to get the value of data members. Since these functions are public, they can be accessed\n",
        "    * outside the class, thus provide the access to data members through them.  */\n",
        "   int getNum() const {\n",
        "      return num;\n",
        "   }\n",
        "   char getCh() const {\n",
        "      return ch;\n",
        "   }\n",
        "   /* Setter functions, they are called for assigning the values to the private data members.*/\n",
        "   void setNum(int num) {\n",
        "      this->num = num;\n",
        "   }\n",
        "   void setCh(char ch) {\n",
        "      this->ch = ch;\n",
        "   }\n",
        "};\n",
        "int main(){\n",
        "   ExampleEncap obj;\n",
        "   obj.setNum(100);             #These member functions were used to access the private data members of the class.\n",
        "   obj.setCh('A');\n",
        "   cout<<obj.getNum()<<endl;\n",
        "   cout<<obj.getCh()<<endl;\n",
        "   return 0;\n",
        "}"
      ],
      "execution_count": 7,
      "outputs": [
        {
          "output_type": "stream",
          "name": "stdout",
          "text": [
            "Writing OOP-Encapsulation-private_data_members.cpp\n"
          ]
        }
      ]
    },
    {
      "cell_type": "code",
      "metadata": {
        "colab": {
          "base_uri": "https://localhost:8080/"
        },
        "id": "ryo6r4KC31Sh",
        "outputId": "3dab87aa-8f52-4126-b706-188115197391"
      },
      "source": [
        "%%shell\n",
        "g++ OOP-Encapsulation-private_data_members.cpp -o output2\n",
        "./output2"
      ],
      "execution_count": 8,
      "outputs": [
        {
          "output_type": "stream",
          "name": "stdout",
          "text": [
            "100\n",
            "A\n"
          ]
        },
        {
          "output_type": "execute_result",
          "data": {
            "text/plain": [
              ""
            ]
          },
          "metadata": {},
          "execution_count": 8
        }
      ]
    },
    {
      "cell_type": "markdown",
      "metadata": {
        "id": "rWIzoAEB4Zxm"
      },
      "source": [
        "Problem 3 - C++ - Encapsulation - Constructor"
      ]
    },
    {
      "cell_type": "code",
      "metadata": {
        "colab": {
          "base_uri": "https://localhost:8080/"
        },
        "id": "G2A99kw54ofA",
        "outputId": "ae55d0ed-6148-4f06-c558-902e8f7a80c9"
      },
      "source": [
        "%%writefile OOP-Encapsulation-constructor.cpp\n",
        "#include <iostream>\n",
        "using namespace std;\n",
        "class Adder {\n",
        "   public:\n",
        "      Adder(int i = 0) {             // constructor\n",
        "         total = i;\n",
        "      }\n",
        "      void addNum(int number) {         // interface to outside world\n",
        "         total += number;\n",
        "      }\n",
        "      int getTotal() {         // interface to outside world\n",
        "         return total;\n",
        "      };  \n",
        "   private:\n",
        "      // hidden data from outside world\n",
        "      int total;\n",
        "};\n",
        "int main() {\n",
        "   Adder obj1;  \n",
        "   obj1.addNum(10);\n",
        "   obj1.addNum(20);\n",
        "   obj1.addNum(30);\n",
        "   cout << \"Total: \" << obj1.getTotal() <<endl;\n",
        "   return 0;\n",
        "}"
      ],
      "execution_count": 3,
      "outputs": [
        {
          "output_type": "stream",
          "name": "stdout",
          "text": [
            "Overwriting OOP-Encapsulation-constructor.cpp\n"
          ]
        }
      ]
    },
    {
      "cell_type": "code",
      "metadata": {
        "colab": {
          "base_uri": "https://localhost:8080/"
        },
        "id": "nUx14O9rHJfM",
        "outputId": "1b790b5d-ac4b-4280-f215-411c1e1b9f4d"
      },
      "source": [
        "%%shell\n",
        "g++ OOP-Encapsulation-constructor.cpp -o output3\n",
        "./output3"
      ],
      "execution_count": 4,
      "outputs": [
        {
          "output_type": "stream",
          "name": "stdout",
          "text": [
            "Total: 60\n"
          ]
        },
        {
          "output_type": "execute_result",
          "data": {
            "text/plain": [
              ""
            ]
          },
          "metadata": {},
          "execution_count": 4
        }
      ]
    },
    {
      "cell_type": "markdown",
      "metadata": {
        "id": "4WK5u1t7HV9M"
      },
      "source": [
        "Problem 4 - C++ - Encapsulation - Private variables and Public funcions"
      ]
    },
    {
      "cell_type": "code",
      "metadata": {
        "colab": {
          "base_uri": "https://localhost:8080/"
        },
        "id": "9tSq9pQaHafL",
        "outputId": "b7976e0d-01d1-4b36-ad4f-80c606b3d7ea"
      },
      "source": [
        "%%writefile OOP-Encapsulation-private_variables_and_public_functions.cpp\n",
        "#include <iostream>\n",
        "using namespace std;\n",
        "\n",
        "class Rectangle {\n",
        "   private:\n",
        "    int length;        // Variables required for area calculation\n",
        "    int breadth;\n",
        "   public:\n",
        "    void setLength(int len) {       // Setter function for length\n",
        "      length = len;\n",
        "    }\n",
        "    void setBreadth(int brth) {       // Setter function for breadth\n",
        "      breadth = brth;\n",
        "    }\n",
        "    int getLength() {         // Getter function for length\n",
        "      return length;\n",
        "    }\n",
        "    int getBreadth() {      // Getter function for breadth\n",
        "      return breadth;\n",
        "    }\n",
        "    int getArea() {           // Function to calculate area\n",
        "      return length * breadth;\n",
        "    }\n",
        "};\n",
        "int main() {\n",
        "  Rectangle rectangle1;       // Create object of Rectangle class\n",
        "  rectangle1.setLength(12);     // Initialize length using Setter function\n",
        "  rectangle1.setBreadth(15);    // Initialize breadth using Setter function\n",
        "  cout << \"Length = \" << rectangle1.getLength() << endl;     // Access length using Getter function\n",
        "  cout << \"Breadth = \" << rectangle1.getBreadth() << endl;   // Access breadth using Getter function\n",
        "  cout << \"Area = \" << rectangle1.getArea();     // Call getArea() function\n",
        "  return 0;\n",
        "}"
      ],
      "execution_count": 5,
      "outputs": [
        {
          "output_type": "stream",
          "name": "stdout",
          "text": [
            "Writing OOP-Encapsulation-private_variables_and_public_functions.cpp\n"
          ]
        }
      ]
    },
    {
      "cell_type": "code",
      "metadata": {
        "colab": {
          "base_uri": "https://localhost:8080/"
        },
        "id": "jzq8n4D_Hqc-",
        "outputId": "e41dacf1-9269-44cc-80cf-b080f16756ea"
      },
      "source": [
        "%%shell\n",
        "g++ OOP-Encapsulation-private_variables_and_public_functions.cpp -o output4\n",
        "./output4"
      ],
      "execution_count": 8,
      "outputs": [
        {
          "output_type": "stream",
          "name": "stdout",
          "text": [
            "Length = 12\n",
            "Breadth = 15\n",
            "Area = 180"
          ]
        },
        {
          "output_type": "execute_result",
          "data": {
            "text/plain": [
              ""
            ]
          },
          "metadata": {},
          "execution_count": 8
        }
      ]
    },
    {
      "cell_type": "markdown",
      "metadata": {
        "id": "jivrxsfOH1wv"
      },
      "source": [
        "Program - 5 (Python)"
      ]
    },
    {
      "cell_type": "code",
      "metadata": {
        "colab": {
          "base_uri": "https://localhost:8080/"
        },
        "id": "znIUBX_yH-Gc",
        "outputId": "917d9d27-1384-4653-bd8d-8572782ecdee"
      },
      "source": [
        "# A Sample class with init method  \n",
        "class Country:  \n",
        "      \n",
        "    # init method or constructor   \n",
        "    def __init__(self,name):  \n",
        "        self.name = name \n",
        "      \n",
        "    # Sample Method   \n",
        "    def say_name(self):  \n",
        "        print('Hello, Country name is', self.name)  \n",
        "  \n",
        "# Creating different objects     \n",
        "c1 = Country('UK') \n",
        "c2 = Country('USA')\n",
        "c3 = Country('India')\n",
        "  \n",
        "c1.say_name()  \n",
        "c2.say_name()\n",
        "c3.say_name()"
      ],
      "execution_count": 9,
      "outputs": [
        {
          "output_type": "stream",
          "name": "stdout",
          "text": [
            "Hello, Country name is UK\n",
            "Hello, Country name is USA\n",
            "Hello, Country name is India\n"
          ]
        }
      ]
    },
    {
      "cell_type": "markdown",
      "metadata": {
        "id": "TPmoRz1qIDxc"
      },
      "source": [
        "Program - 6 (python)"
      ]
    },
    {
      "cell_type": "code",
      "metadata": {
        "colab": {
          "base_uri": "https://localhost:8080/"
        },
        "id": "KQoBuZdvIL4e",
        "outputId": "45aec68c-2d0b-485c-ac1a-6c6cf4e624e2"
      },
      "source": [
        "class Car:\n",
        "    __maxspeed = 0\n",
        "    __name = \"\"    \n",
        "    def __init__(self):\n",
        "        self.__maxspeed = 400\n",
        "        self.__name = \"Supercar\"    \n",
        "    def drive(self):\n",
        "        print('Maxspeed = ' + str(self.__maxspeed))\n",
        "    \n",
        "\n",
        "redcar = Car()\n",
        "redcar.drive()\n",
        "mxspeed = 10\n",
        "redcar.__maxspeed = 10        # will not change variable because its private\n",
        "redcar.drive()"
      ],
      "execution_count": 12,
      "outputs": [
        {
          "output_type": "stream",
          "name": "stdout",
          "text": [
            "Maxspeed = 400\n",
            "Maxspeed = 400\n"
          ]
        }
      ]
    },
    {
      "cell_type": "markdown",
      "metadata": {
        "id": "aJEEIf7SIcrZ"
      },
      "source": [
        "Program - 7 - (python)"
      ]
    },
    {
      "cell_type": "code",
      "metadata": {
        "colab": {
          "base_uri": "https://localhost:8080/"
        },
        "id": "VGhjmyMLIojB",
        "outputId": "eef21062-c68c-4abb-9b0d-80a8dcaf731e"
      },
      "source": [
        "# Python program to demonstrate private members\n",
        " \n",
        "# Creating a Base class\n",
        "class Base:\n",
        "    def __init__(self):\n",
        "        self.a = \"OOP Course\"\n",
        "        self.__c = \"IIIT DWD\"\n",
        "        print(\"Calling private member of base class: \")\n",
        "        print(self.__c)\n",
        "# Driver code\n",
        "obj1 = Base()\n",
        "print(obj1.a)"
      ],
      "execution_count": 13,
      "outputs": [
        {
          "output_type": "stream",
          "name": "stdout",
          "text": [
            "Calling private member of base class: \n",
            "IIIT DWD\n",
            "OOP Course\n"
          ]
        }
      ]
    },
    {
      "cell_type": "code",
      "metadata": {
        "colab": {
          "base_uri": "https://localhost:8080/"
        },
        "id": "vOEp6hfJIt7H",
        "outputId": "7a14ffa7-5b03-4325-b2d8-72c2b03cd09a"
      },
      "source": [
        "# Python program to demonstrate private members\n",
        " \n",
        "# Creating a Base class\n",
        "class Base:\n",
        "    def __init__(self):\n",
        "        self.a = \"OOP Course\"\n",
        "        self.__c = \"IIIT DWD\"\n",
        "# Creating a derived class\n",
        "class Derived(Base):\n",
        "    def __init__(self):   \n",
        "        # Calling constructor of Base class\n",
        "        Base.__init__(self)\n",
        "        print(\"Calling private member of base class: \")\n",
        "        print(self.__c)\n",
        "# Driver code\n",
        "obj1 = Base()\n",
        "print(obj1.a)"
      ],
      "execution_count": 14,
      "outputs": [
        {
          "output_type": "stream",
          "name": "stdout",
          "text": [
            "OOP Course\n"
          ]
        }
      ]
    },
    {
      "cell_type": "markdown",
      "metadata": {
        "id": "LxHo2OpOIyfY"
      },
      "source": [
        "Program - 8 (C++)"
      ]
    },
    {
      "cell_type": "code",
      "metadata": {
        "colab": {
          "base_uri": "https://localhost:8080/"
        },
        "id": "9wSM_eXgI86I",
        "outputId": "dfd5b469-6dd4-4d7f-ca4a-35cfa30123fa"
      },
      "source": [
        "%%writefile OOP-Encapsulation-Examples.cpp\n",
        "#include <iostream>\n",
        "using namespace std;\n",
        "\n",
        "class stud \n",
        "{\n",
        "    public:\n",
        "    char name[30],clas[10];\n",
        "    int rol,age;\n",
        "\n",
        "    void enter() \n",
        "    { \n",
        "        cout<<\"Enter Student Name: \"; cin>>name;    \n",
        "        cout<<\"Enter Student Age: \"; cin>>age;        \n",
        "        cout<<\"Enter Student Roll number: \"; cin>>rol;        \n",
        "        cout<<\"Enter Student Class: \"; cin>>clas;\n",
        "    }\n",
        "    \n",
        "    void display() \n",
        "    {\n",
        "        cout<<\"\\n\\tR.No.\\tName\\tAge\\tClass\";\n",
        "        cout<<\"\\n\\t\"<<rol<<\"\\t\"<<name<<\"\\t\"<<age<<\"\\t\"<<clas; \n",
        "    }\n",
        "};\n",
        "\n",
        "int main()\n",
        "{\n",
        "    class stud s;\n",
        "    s.enter();\n",
        "    s.display();\n",
        "    cin.get();//use this to wait for a keypress \n",
        "}"
      ],
      "execution_count": 23,
      "outputs": [
        {
          "output_type": "stream",
          "name": "stdout",
          "text": [
            "Overwriting OOP-Encapsulation-Examples.cpp\n"
          ]
        }
      ]
    },
    {
      "cell_type": "code",
      "metadata": {
        "colab": {
          "base_uri": "https://localhost:8080/"
        },
        "id": "tPsxtZtMJESZ",
        "outputId": "14403130-cc5b-4d6e-ca4c-d2eba4538215"
      },
      "source": [
        "%%shell\n",
        "g++ OOP-Encapsulation-Examples.cpp -o output5\n",
        "./output5"
      ],
      "execution_count": 24,
      "outputs": [
        {
          "output_type": "stream",
          "name": "stdout",
          "text": [
            "Enter Student Name: Harshal\n",
            "Enter Student Age: 19\n",
            "Enter Student Roll number: 52\n",
            "Enter Student Class: CSE\n",
            "\n",
            "\tR.No.\tName\tAge\tClass\n",
            "\t52\tHarshal\t19\tCSE"
          ]
        },
        {
          "output_type": "execute_result",
          "data": {
            "text/plain": [
              ""
            ]
          },
          "metadata": {},
          "execution_count": 24
        }
      ]
    },
    {
      "cell_type": "markdown",
      "metadata": {
        "id": "pgpKRPB4KQz8"
      },
      "source": [
        "Program - 9 (python)"
      ]
    },
    {
      "cell_type": "code",
      "metadata": {
        "colab": {
          "base_uri": "https://localhost:8080/"
        },
        "id": "Zt-tDKCUKYH6",
        "outputId": "1d856b18-36eb-4940-a663-aa94fc412b6f"
      },
      "source": [
        "class student:\n",
        "  count=0\n",
        "  def __init__(self,num) :\n",
        "    student.count=student.count+num\n",
        "\n",
        "s1=student(4)\n",
        "s2=student(5)\n",
        "s3=student(6)\n",
        "\n",
        "print(\"number of students in OOP class :\", student.count)\n",
        "print(\"number of students in OOP class:\", s2.count)"
      ],
      "execution_count": 25,
      "outputs": [
        {
          "output_type": "stream",
          "name": "stdout",
          "text": [
            "number of students in OOP class : 15\n",
            "number of students in OOP class: 15\n"
          ]
        }
      ]
    },
    {
      "cell_type": "markdown",
      "metadata": {
        "id": "dDGnqfOEKlHR"
      },
      "source": [
        "Program - 10 (python)"
      ]
    },
    {
      "cell_type": "code",
      "metadata": {
        "colab": {
          "base_uri": "https://localhost:8080/"
        },
        "id": "StIGO92xKv74",
        "outputId": "5a4dee11-93fa-4af2-b423-1b1cf26f4ed7"
      },
      "source": [
        "# Example non parametrized constructors\n",
        "class student:\n",
        "  count=0\n",
        "  def __init__(self) :\n",
        "    print(\"This is non parametrized constructor with no arguments or parameters\") \n",
        "\n",
        "  def shownum(self,num):\n",
        "       print(\"number of students in OOP class :\", num * num)\n",
        "       return num\n",
        "s1=student()\n",
        "s2=student()\n",
        "s3=student()\n",
        "\n",
        "result1= s1.shownum(5)\n",
        "result2= s2.shownum(6)\n",
        "\n",
        "print(\"number of students in OOP class :\", result1,result2)"
      ],
      "execution_count": 26,
      "outputs": [
        {
          "output_type": "stream",
          "name": "stdout",
          "text": [
            "This is non parametrized constructor with no arguments or parameters\n",
            "This is non parametrized constructor with no arguments or parameters\n",
            "This is non parametrized constructor with no arguments or parameters\n",
            "number of students in OOP class : 25\n",
            "number of students in OOP class : 36\n",
            "number of students in OOP class : 5 6\n"
          ]
        }
      ]
    },
    {
      "cell_type": "markdown",
      "metadata": {
        "id": "lY7L1qlrLMDt"
      },
      "source": [
        "Program - 11 (python)"
      ]
    },
    {
      "cell_type": "code",
      "metadata": {
        "colab": {
          "base_uri": "https://localhost:8080/"
        },
        "id": "2TDoFaZNLWv7",
        "outputId": "3fdd3087-a90c-4230-8785-37ed2eaf96d9"
      },
      "source": [
        "\n",
        "# Example parametrized constructors\n",
        "class student:\n",
        "  count=0\n",
        "  def __init__(self,stname,stage) :\n",
        "    self.name = stname\n",
        "    self.age = stage\n",
        "    print(\"This is parametrized constructor with no arguments or parameters\") \n",
        "\n",
        "  def display(self,styear):\n",
        "       print(\"\\nStudent joined IIIT Dharwad   :\", self.name, self.age, styear)\n",
        "       if styear <= 2020 :\n",
        "         print (\"Student has completed the course\")\n",
        "       return \n",
        "s1=student(\"Ram\",21)\n",
        "s2=student(\"Krishna\",23)\n",
        "s3=student(\"Kumar\",22)\n",
        "\n",
        "s1.display(2021)\n",
        "s2.display(2019)\n",
        "s3.display(2018)"
      ],
      "execution_count": 32,
      "outputs": [
        {
          "output_type": "stream",
          "name": "stdout",
          "text": [
            "This is parametrized constructor with no arguments or parameters\n",
            "This is parametrized constructor with no arguments or parameters\n",
            "This is parametrized constructor with no arguments or parameters\n",
            "\n",
            "Student joined IIIT Dharwad   : Ram 21 2021\n",
            "\n",
            "Student joined IIIT Dharwad   : Krishna 23 2019\n",
            "Student has completed the course\n",
            "\n",
            "Student joined IIIT Dharwad   : Kumar 22 2018\n",
            "Student has completed the course\n"
          ]
        }
      ]
    },
    {
      "cell_type": "markdown",
      "metadata": {
        "id": "sDVRLGnbMWiU"
      },
      "source": [
        "Python - 12 (python)"
      ]
    },
    {
      "cell_type": "code",
      "metadata": {
        "colab": {
          "base_uri": "https://localhost:8080/"
        },
        "id": "cXrVMBFyMcg8",
        "outputId": "985d9557-9698-4633-bba7-78f9b06bb03a"
      },
      "source": [
        "# Python Default Constructor\n",
        "# Example parametrized constructors\n",
        "class student:\n",
        "    name = \"Ram\"\n",
        "    age =  21\n",
        "\n",
        "    def display(self,styear):\n",
        "       print(\"\\nStudent joined IIIT Dharwad   :\", self.name, self.age, styear)\n",
        "       if styear <= 2020 :\n",
        "         print (\"Student has completed the course\")\n",
        "       return \n",
        "s1=student()\n",
        "s2=student()\n",
        "s3=student()\n",
        "\n",
        "s1.display(2021)\n",
        "s2.display(2019)\n",
        "s3.display(2018)"
      ],
      "execution_count": 37,
      "outputs": [
        {
          "output_type": "stream",
          "name": "stdout",
          "text": [
            "\n",
            "Student joined IIIT Dharwad   : Ram 21 2021\n",
            "\n",
            "Student joined IIIT Dharwad   : Ram 21 2019\n",
            "Student has completed the course\n",
            "\n",
            "Student joined IIIT Dharwad   : Ram 21 2018\n",
            "Student has completed the course\n"
          ]
        }
      ]
    },
    {
      "cell_type": "markdown",
      "metadata": {
        "id": "bfVKOpLeM1R5"
      },
      "source": [
        "Python - 13 (python) - Exercise\n",
        "\n",
        "write your code in Python and create a parametrized constructor"
      ]
    },
    {
      "cell_type": "code",
      "metadata": {
        "colab": {
          "base_uri": "https://localhost:8080/"
        },
        "id": "2m_IAjz6M75S",
        "outputId": "7175939a-a734-44c9-e9cc-16af00d4f1ef"
      },
      "source": [
        "class multiply:\n",
        "\n",
        "  num1 = 0\n",
        "  num2 = 0\n",
        "  res = 0\n",
        "\t\n",
        "\t# parameterized constructor\n",
        "  def __init__(self, n1, n2):\n",
        "   self.num1 = n1\n",
        "   self.num2 = n2\n",
        "   self.res = self.num1 * self.num2\n",
        "   \n",
        "  def display(self):\n",
        "   print(\"First number = \", self.num1)\n",
        "   print(\"Second number = \", self.num2)\n",
        "   print(f\"{self.num1} * {self.num2} = {self.res}\")\n",
        "\n",
        "\n",
        "# creating object of the class\n",
        "# this will invoke parameterized constructor\n",
        "obj = multiply(690, 42)\n",
        "\n",
        "# display result\n",
        "obj.display()\n"
      ],
      "execution_count": 55,
      "outputs": [
        {
          "output_type": "stream",
          "name": "stdout",
          "text": [
            "First number =  690\n",
            "Second number =  42\n",
            "690 * 42 = 28980\n"
          ]
        }
      ]
    }
  ]
}