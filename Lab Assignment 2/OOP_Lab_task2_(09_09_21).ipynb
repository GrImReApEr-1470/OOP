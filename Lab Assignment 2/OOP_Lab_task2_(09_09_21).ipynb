{
  "nbformat": 4,
  "nbformat_minor": 0,
  "metadata": {
    "colab": {
      "name": "OOP_Lab_task2_(09-09-21).ipynb",
      "provenance": [],
      "collapsed_sections": [],
      "authorship_tag": "ABX9TyPvzCz/NidlU2Nygv8GWthK",
      "include_colab_link": true
    },
    "kernelspec": {
      "name": "python3",
      "display_name": "Python 3"
    },
    "language_info": {
      "name": "python"
    }
  },
  "cells": [
    {
      "cell_type": "markdown",
      "metadata": {
        "id": "view-in-github",
        "colab_type": "text"
      },
      "source": [
        "<a href=\"https://colab.research.google.com/github/GrImReApEr-1470/OOP/blob/main/Lab%20Assignment%202/OOP_Lab_task2_(09_09_21).ipynb\" target=\"_parent\"><img src=\"https://colab.research.google.com/assets/colab-badge.svg\" alt=\"Open In Colab\"/></a>"
      ]
    },
    {
      "cell_type": "markdown",
      "metadata": {
        "id": "39ayCB7-szzx"
      },
      "source": [
        "Problem 1\n",
        "\n",
        "Create a python class circle, constructed by a radius and two methods that will\n",
        "compute the area and the perimeter of a circle."
      ]
    },
    {
      "cell_type": "code",
      "metadata": {
        "id": "ZmNhsGQGmx4E"
      },
      "source": [
        "import math\n",
        "class Circle:\n",
        "    def __init__(self, radius):\n",
        "      self.radius = radius\n",
        "    def find_area(self):\n",
        "      return (self.radius * self.radius * math.pi\n",
        "    def find_peri(self):\n",
        "      return (2 * math.pi * self.radius)"
      ],
      "execution_count": null,
      "outputs": []
    },
    {
      "cell_type": "code",
      "metadata": {
        "colab": {
          "base_uri": "https://localhost:8080/"
        },
        "id": "pdWtITAZpwsL",
        "outputId": "0b211300-8359-4e0f-b971-1fb5a9ffc3b6"
      },
      "source": [
        "c1 = Circle(5)\n",
        "print(f\"Area = {c1.find_area()}\")\n",
        "print(f\"Perimeter = {c1.find_peri()}\")"
      ],
      "execution_count": null,
      "outputs": [
        {
          "output_type": "stream",
          "name": "stdout",
          "text": [
            "Area = 78.53981633974483\n",
            "Perimeter = 31.41592653589793\n"
          ]
        }
      ]
    },
    {
      "cell_type": "markdown",
      "metadata": {
        "id": "AEfWfxPksTuJ"
      },
      "source": [
        "Problem 2\n",
        "\n",
        "Write a python program to enter the data of a 5 teaching faculty and display it.\n",
        "\n",
        "(Data of a Faculty: Name, Emp ID, Branch, Salary)."
      ]
    },
    {
      "cell_type": "code",
      "metadata": {
        "id": "4vNiMoPPsUKq"
      },
      "source": [
        "class Employee:\n",
        "    def __init__ (self, name, id, branch, salary):\n",
        "        self.id = id\n",
        "        self.name = name\n",
        "        self.branch = branch\n",
        "        self.salary = salary\n",
        "\n",
        "\n",
        "    def showData(self):\n",
        "        print(\"\\nEmp ID:\",self.id)\n",
        "        print(\"Name:\", self.name)\n",
        "        print(\"Branch:\", self.branch)\n",
        "        print(\"Salary:\", self.salary)\n"
      ],
      "execution_count": null,
      "outputs": []
    },
    {
      "cell_type": "code",
      "metadata": {
        "colab": {
          "base_uri": "https://localhost:8080/"
        },
        "id": "MZgAwRBNH8O7",
        "outputId": "0ef89ea6-0738-4fd7-de9e-823f066a34da"
      },
      "source": [
        "objects = []\n",
        "for i in range(5):\n",
        "    print(f\"\\nEmployee {i + 1}:\")\n",
        "    id = input(\"Enter employee id: \")\n",
        "    name = input(\"Enter faculty's name: \")\n",
        "    branch = input(\"Enter branch: \")\n",
        "    salary = input(\"Enter salary: \")\n",
        "    id = Employee(name, id, branch, salary)\n",
        "    objects.append(id)\n",
        "\n",
        "for i in range(5):\n",
        "    objects[i].showData()\n"
      ],
      "execution_count": null,
      "outputs": [
        {
          "output_type": "stream",
          "name": "stdout",
          "text": [
            "\n",
            "Employee 1:\n",
            "Enter employee id: 1001\n",
            "Enter faculty's name: ABC\n",
            "Enter branch: CSE\n",
            "Enter salary: 1234567\n",
            "\n",
            "Employee 2:\n",
            "Enter employee id: 1002\n",
            "Enter faculty's name: BCD\n",
            "Enter branch: DSAI\n",
            "Enter salary: 2345678\n",
            "\n",
            "Employee 3:\n",
            "Enter employee id: 1003\n",
            "Enter faculty's name: CDE\n",
            "Enter branch: ECE\n",
            "Enter salary: 3456789\n",
            "\n",
            "Employee 4:\n",
            "Enter employee id: 1004\n",
            "Enter faculty's name: DEF\n",
            "Enter branch: CSE\n",
            "Enter salary: 5000000\n",
            "\n",
            "Employee 5:\n",
            "Enter employee id: 1006\n",
            "Enter faculty's name: EFG\n",
            "Enter branch: DSAI\n",
            "Enter salary: 1000000\n",
            "\n",
            "Emp ID: 1001\n",
            "Name: ABC\n",
            "Branch: CSE\n",
            "Salary: 1234567\n",
            "\n",
            "Emp ID: 1002\n",
            "Name: BCD\n",
            "Branch: DSAI\n",
            "Salary: 2345678\n",
            "\n",
            "Emp ID: 1003\n",
            "Name: CDE\n",
            "Branch: ECE\n",
            "Salary: 3456789\n",
            "\n",
            "Emp ID: 1004\n",
            "Name: DEF\n",
            "Branch: CSE\n",
            "Salary: 5000000\n",
            "\n",
            "Emp ID: 1006\n",
            "Name: EFG\n",
            "Branch: DSAI\n",
            "Salary: 1000000\n"
          ]
        }
      ]
    },
    {
      "cell_type": "markdown",
      "metadata": {
        "id": "Nbye2Lg16lsd"
      },
      "source": [
        "Problem 3\n",
        "\n",
        "Write a python program to demonstrate the working of the banking system.\n",
        "\n",
        "a. Create account class with data members (Account No, Account holder name,\n",
        "Amount)\n",
        "\n",
        "b. Crete constructor to initialize data members.\n",
        "\n",
        "c. Create member functions (Deposit, withdraw, check balance, and display account\n",
        "details)"
      ]
    },
    {
      "cell_type": "code",
      "metadata": {
        "id": "kjaOHrpm67rI"
      },
      "source": [
        "class Account:\n",
        "\n",
        "    def __init__ (self, acc_no, name, amount):\n",
        "        self.__acc_no = acc_no\n",
        "        self.__name = name\n",
        "        self.__amount = amount\n",
        "        print(\"Account was created.\\n\")\n",
        "    \n",
        "    def deposit(self, val):\n",
        "        self.__amount += val\n",
        "        print(f\"₹{val} were deposited to the account.\\nFinal balance = ₹{self.__amount}\\n\")\n",
        "\n",
        "    def withdraw(self, val):\n",
        "        self.__amount -= val\n",
        "        print(f\"₹{val} were withdrawn from the account.\\nFinal balance = ₹{self.__amount}\\n\")\n",
        "\n",
        "    def check_bal(self):\n",
        "        print(f\"Current account balance = ₹{self.__amount}\\n\")\n",
        "\n",
        "    def show_details(self):\n",
        "        print(f\"Account No: {self.__acc_no}\")\n",
        "        print(f\"Account holder name: {self.__name}\")\n",
        "        print(f\"Account balance: ₹{self.__amount}\\n\")\n",
        "  "
      ],
      "execution_count": null,
      "outputs": []
    },
    {
      "cell_type": "code",
      "metadata": {
        "colab": {
          "base_uri": "https://localhost:8080/"
        },
        "id": "Gbj3oRYx-MEJ",
        "outputId": "a1c3b1ae-4845-4019-8f77-587f47277643"
      },
      "source": [
        "a1 = Account(1133225544, \"ABC BCD CDE\", 100000)\n",
        "a1.check_bal()\n",
        "a1.withdraw(10000)\n",
        "a1.deposit(1000)\n",
        "a1.check_bal()\n",
        "a1.show_details()\n"
      ],
      "execution_count": null,
      "outputs": [
        {
          "output_type": "stream",
          "name": "stdout",
          "text": [
            "Account was created.\n",
            "\n",
            "Current account balance = ₹100000\n",
            "\n",
            "₹10000 were withdrawn from the account.\n",
            "Final balance = ₹90000\n",
            "\n",
            "₹1000 were deposited to the account.\n",
            "Final balance = ₹91000\n",
            "\n",
            "Current account balance = ₹91000\n",
            "\n",
            "Account No: 1133225544\n",
            "Account holder name: ABC BCD CDE\n",
            "Account balance: ₹91000\n",
            "\n"
          ]
        }
      ]
    },
    {
      "cell_type": "markdown",
      "metadata": {
        "id": "93Iuj2XJ_qby"
      },
      "source": [
        "Problem 4\n",
        "\n",
        "Write a python program to store and display the student name, USN, and marks of a student. Use the list to store the marks of a student in three subjects."
      ]
    },
    {
      "cell_type": "code",
      "metadata": {
        "id": "9oOeCWKKEoQw"
      },
      "source": [
        "class Student:\n",
        "    def __init__ (self, name, usn):\n",
        "        self.name = name\n",
        "        self.usn = usn\n",
        "        self.marks = []\n",
        "    \n",
        "    def enter_marks(self, sub1, sub2, sub3):\n",
        "        self.marks = [sub1, sub2, sub3]\n",
        "    \n",
        "    def show_details(self):\n",
        "        print(f\"\\nName: {self.name}\")\n",
        "        print(f\"USN: {self.usn}\")\n",
        "        print(f\"Marks in subject 1: {self.marks[0]}\")\n",
        "        print(f\"Marks in subject 2: {self.marks[1]}\")\n",
        "        print(f\"Marks in subject 3: {self.marks[2]}\")\n"
      ],
      "execution_count": null,
      "outputs": []
    },
    {
      "cell_type": "code",
      "metadata": {
        "colab": {
          "base_uri": "https://localhost:8080/"
        },
        "id": "JuOBdslZHwJT",
        "outputId": "df8a1b7e-b863-456d-f2de-915ec4257dbf"
      },
      "source": [
        "s1 = Student(\"ABC PQR\", 20052)\n",
        "\n",
        "sub1 = input(\"Enter marks in subject 1: \")\n",
        "sub2 = input(\"Enter marks in subject 2: \")\n",
        "sub3 = input(\"Enter marks in subject 3: \")\n",
        "\n",
        "s1.enter_marks(sub1, sub2, sub3)\n",
        "\n",
        "s1.show_details()\n"
      ],
      "execution_count": null,
      "outputs": [
        {
          "output_type": "stream",
          "name": "stdout",
          "text": [
            "Enter marks in subject 1: 50\n",
            "Enter marks in subject 2: 48\n",
            "Enter marks in subject 3: 23\n",
            "\n",
            "Name: ABC PQR\n",
            "USN: 20052\n",
            "Marks in subject 1: 50\n",
            "Marks in subject 2: 48\n",
            "Marks in subject 3: 23\n"
          ]
        }
      ]
    },
    {
      "cell_type": "markdown",
      "metadata": {
        "id": "fREB5qEiKABH"
      },
      "source": [
        "Problem 5\n",
        "\n",
        "A hospital wants to create a database regarding covid-19 patients. The information to\n",
        "store include:\n",
        "\n",
        "a) Name of the patient\n",
        "\n",
        "b) Date of admission.\n",
        "\n",
        "c) List of symptoms.\n",
        "\n",
        "d) Oxygen level.\n",
        "\n",
        "e) Date of discharge.\n",
        "\n",
        "Note: If the oxygen level is less than 90, then the patient is put on oxygen support else moved to the general ward for observation.\n",
        "\n",
        "Create a class to store the above information. The member function should include a function to enter patient’s information, check the severity, display the number of patients required oxygen support, number of patients in the general ward for observation, and the total number of patients admitted."
      ]
    },
    {
      "cell_type": "code",
      "metadata": {
        "id": "R3WPWrnJbbF5"
      },
      "source": [
        "class Hospital:\n",
        "\n",
        "    def __init__ (self):\n",
        "        self.name = \"\"\n",
        "        self.date_of_adm = \"\"\n",
        "        self.symptoms = []\n",
        "        self.oxy_levels = -1\n",
        "        self.date_of_dis = \"\"\n",
        "        self.severity = \"\"\n",
        "    \n",
        "    def enter_information (self, name, date_of_adm, symptoms, oxy_level, date_of_dis):\n",
        "        self.name = name\n",
        "        self.date_of_adm = date_of_adm\n",
        "        self.symptoms = symptoms\n",
        "        self.oxy_levels = oxy_levels\n",
        "        self.date_of_dis = date_of_dis\n",
        "    \n",
        "    def check_severity(self):         #Patients are sent to general ward or provided oxygen support only after checking severity.\n",
        "        if oxy_levels < 90:\n",
        "            self.severity = \"High\"\n",
        "            print(\"Patient requires oxygen support.\")\n",
        "        else:\n",
        "            self.severity = \"Low\"\n",
        "            print(\"Patient should be moved to the general ward for obeservation.\")\n",
        "\n",
        "    def show_info(self):\n",
        "        print(f\"\\n\\nName: {self.name}\")\n",
        "        print(f\"Date of admission: {self.date_of_adm}\")\n",
        "        print(f\"Symtoms:\")\n",
        "        for i in self.symptoms:\n",
        "            print(f\"\\t{i}\")\n",
        "        print(f\"oxygen levels: {self.oxy_levels}\")\n",
        "        print(f\"Severity: {self.severity}\")\n",
        "        print(f\"Date of discharge: {self.date_of_dis}\\n\")\n",
        "    \n",
        "\n",
        "def num_of_patients():\n",
        "    print(f\"Total number of patients admitted = {len(patients)}\")\n",
        "\n",
        "def patients_with_oxy_support():\n",
        "    count = 0\n",
        "    for i in patients:\n",
        "        if i.severity == \"High\":\n",
        "            count += 1\n",
        "    print(f\"Number of patients requiring oxygen support = {count}\")\n",
        "\n",
        "\n",
        "def patients_in_genral_ward():\n",
        "    count = 0\n",
        "    for i in patients:\n",
        "        if i.severity == \"Low\":\n",
        "            count += 1\n",
        "    print(f\"Number of patients in general ward = {count}\")\n"
      ],
      "execution_count": 12,
      "outputs": []
    },
    {
      "cell_type": "code",
      "metadata": {
        "id": "LqrK2AlacKKG",
        "colab": {
          "base_uri": "https://localhost:8080/",
          "height": 0
        },
        "outputId": "adcde0a9-cd81-4bf6-ca03-3208a94e6ac3"
      },
      "source": [
        "patients = []\n",
        "for i in range(5):\n",
        "    name = input(\"\\n\\nEnter name: \")\n",
        "    name1 = name\n",
        "    name = Hospital()\n",
        "    patients.append(name)\n",
        "    date_of_adm = input(\"Enter date of admission: \")\n",
        "    print(\"Enter symptoms seperated by blank spaces:\")\n",
        "    symtoms = input().split()\n",
        "    oxy_levels = int(input(\"Enter oxygen levels: \"))\n",
        "    date_of_dis = input(\"Enter date of discharge: \")\n",
        "    name.enter_information(name1, date_of_adm, symtoms, oxy_levels, date_of_dis)\n",
        "    print(\"\")\n",
        "    \n",
        "    name.check_severity()         #decides if the patient is sent to general ward or provided oxygen support.\n",
        "\n",
        "print(patients)\n",
        "\n",
        "for i in patients:\n",
        "    i.show_info()\n",
        "\n",
        "num_of_patients()\n",
        "patients_with_oxy_support()\n",
        "patients_in_genral_ward()\n"
      ],
      "execution_count": 13,
      "outputs": [
        {
          "output_type": "stream",
          "name": "stdout",
          "text": [
            "\n",
            "\n",
            "Enter name: Rahul\n",
            "Enter date of admission: 12/12/2020\n",
            "Enter symptoms seperated by blank spaces:\n",
            "abc bcd cde\n",
            "Enter oxygen levels: 90\n",
            "Enter date of discharge: 10/10/2021\n",
            "\n",
            "Patient should be moved to the general ward for obeservation.\n",
            "\n",
            "\n",
            "Enter name: Rakul\n",
            "Enter date of admission: 10/10/2021\n",
            "Enter symptoms seperated by blank spaces:\n",
            "qwe wer ert\n",
            "Enter oxygen levels: 85\n",
            "Enter date of discharge: 12/12/2021\n",
            "\n",
            "Patient requires oxygen support.\n",
            "\n",
            "\n",
            "Enter name: Rohan\n",
            "Enter date of admission: 15/06/2021\n",
            "Enter symptoms seperated by blank spaces:\n",
            "asd sdf dfg\n",
            "Enter oxygen levels: 76\n",
            "Enter date of discharge: 30/12/2021\n",
            "\n",
            "Patient requires oxygen support.\n",
            "\n",
            "\n",
            "Enter name: Raunak\n",
            "Enter date of admission: 1/1/1111\n",
            "Enter symptoms seperated by blank spaces:\n",
            "qaz wsx edc\n",
            "Enter oxygen levels: 0\n",
            "Enter date of discharge: 2/2/2222\n",
            "\n",
            "Patient requires oxygen support.\n",
            "\n",
            "\n",
            "Enter name: Ron\n",
            "Enter date of admission: 15/5/2021\n",
            "Enter symptoms seperated by blank spaces:\n",
            "qpwo alls\n",
            "Enter oxygen levels: 100\n",
            "Enter date of discharge: 20/10/2021\n",
            "\n",
            "Patient should be moved to the general ward for obeservation.\n",
            "[<__main__.Hospital object at 0x7fa6468b4050>, <__main__.Hospital object at 0x7fa646f8d050>, <__main__.Hospital object at 0x7fa646eb31d0>, <__main__.Hospital object at 0x7fa644e4bd10>, <__main__.Hospital object at 0x7fa646924290>]\n",
            "\n",
            "\n",
            "Name: Rahul\n",
            "Date of admission: 12/12/2020\n",
            "Symtoms:\n",
            "\tabc\n",
            "\tbcd\n",
            "\tcde\n",
            "oxygen levels: 90\n",
            "Severity: Low\n",
            "Date of discharge: 10/10/2021\n",
            "\n",
            "\n",
            "\n",
            "Name: Rakul\n",
            "Date of admission: 10/10/2021\n",
            "Symtoms:\n",
            "\tqwe\n",
            "\twer\n",
            "\tert\n",
            "oxygen levels: 85\n",
            "Severity: High\n",
            "Date of discharge: 12/12/2021\n",
            "\n",
            "\n",
            "\n",
            "Name: Rohan\n",
            "Date of admission: 15/06/2021\n",
            "Symtoms:\n",
            "\tasd\n",
            "\tsdf\n",
            "\tdfg\n",
            "oxygen levels: 76\n",
            "Severity: High\n",
            "Date of discharge: 30/12/2021\n",
            "\n",
            "\n",
            "\n",
            "Name: Raunak\n",
            "Date of admission: 1/1/1111\n",
            "Symtoms:\n",
            "\tqaz\n",
            "\twsx\n",
            "\tedc\n",
            "oxygen levels: 0\n",
            "Severity: High\n",
            "Date of discharge: 2/2/2222\n",
            "\n",
            "\n",
            "\n",
            "Name: Ron\n",
            "Date of admission: 15/5/2021\n",
            "Symtoms:\n",
            "\tqpwo\n",
            "\talls\n",
            "oxygen levels: 100\n",
            "Severity: Low\n",
            "Date of discharge: 20/10/2021\n",
            "\n",
            "Total number of patients admitted = 5\n",
            "Number of patients requiring oxygen support = 3\n",
            "Number of patients in general ward = 2\n"
          ]
        }
      ]
    },
    {
      "cell_type": "markdown",
      "metadata": {
        "id": "MQun8KjLobos"
      },
      "source": [
        "Problem 6\n",
        "\n",
        "Create a Class time that has separate int member data for hours, minutes, and\n",
        "seconds. One constructor should initialize this data to 0 and another should initialize it to fixed values. Another member function should display it in hh:mm: ss format."
      ]
    },
    {
      "cell_type": "code",
      "metadata": {
        "id": "m5C15LP_lIKf"
      },
      "source": [
        "class Time:\n",
        "    \n",
        "    def __init__ (self, hr=0, min=0, sec=0):\n",
        "        self.hours = hr\n",
        "        self.minutes = min\n",
        "        self.seconds = sec\n",
        "    \n",
        "    def display_time (self):\n",
        "        print(f\"Time: {self.hours}:{self.minutes}:{self.seconds}\")"
      ],
      "execution_count": 5,
      "outputs": []
    },
    {
      "cell_type": "code",
      "metadata": {
        "colab": {
          "base_uri": "https://localhost:8080/",
          "height": 0
        },
        "id": "K03D4ZJKnlYT",
        "outputId": "04568004-e167-43b3-d6fc-ae056b5f4b5a"
      },
      "source": [
        "t1 = Time()\n",
        "t2 = Time(4, 20, 42)\n",
        "t1.display_time()\n",
        "t2.display_time()"
      ],
      "execution_count": 9,
      "outputs": [
        {
          "output_type": "stream",
          "name": "stdout",
          "text": [
            "Time: 0:0:0\n",
            "Time: 4:20:42\n"
          ]
        }
      ]
    },
    {
      "cell_type": "markdown",
      "metadata": {
        "id": "6WGBRJYKoySZ"
      },
      "source": [
        "Problem 7\n",
        "\n",
        "Create a class to store the details of two students: \n",
        "\n",
        "std1(Name= Rahul, Age =21, roll no=33), \n",
        "\n",
        "Std2( Name = Rohit, Age=22, Roll no = 74)\n",
        "\n",
        "Write a function to compare the age of both the students, print whether they are equal or not equal."
      ]
    },
    {
      "cell_type": "code",
      "metadata": {
        "id": "OhbSYqNPpT66"
      },
      "source": [
        "class Students:\n",
        "\n",
        "    def __init__ (self, name, age, roll_no):\n",
        "        self.name = name\n",
        "        self.age = age\n",
        "        self.roll_no = roll_no\n",
        "    \n",
        "    def display(self):\n",
        "        print(f\"Name: {self.name}\")\n",
        "        print(f\"Roll no: {self.roll_no}\")\n",
        "        print(f\"Age: {self.age}\")\n"
      ],
      "execution_count": 2,
      "outputs": []
    },
    {
      "cell_type": "code",
      "metadata": {
        "colab": {
          "base_uri": "https://localhost:8080/",
          "height": 0
        },
        "id": "KxktHZBSqJpO",
        "outputId": "c7def90f-5ef3-4ce5-a154-279c22fd4702"
      },
      "source": [
        "s1 = Students(\"Rahul\", 21, 33)\n",
        "s2 = Students(\"Rohit\", 22, 74)\n",
        "s3 = Students(\"Rakul\", 21, 13)\n",
        "\n",
        "def age_compare(s1, s2):\n",
        "    if s1.age == s2.age:\n",
        "        print(s1.name, \" and \", s2.name, \" are of same age.\")\n",
        "    else:\n",
        "        print(s1.name, \" and \", s2.name, \" are of different age.\")\n",
        "\n",
        "age_compare(s1, s2)\n",
        "age_compare(s1, s3)\n"
      ],
      "execution_count": 6,
      "outputs": [
        {
          "output_type": "stream",
          "name": "stdout",
          "text": [
            "Rahul  and  Rohit  are of different age.\n",
            "Rahul  and  Rakul  are of same age.\n"
          ]
        }
      ]
    },
    {
      "cell_type": "markdown",
      "metadata": {
        "id": "6boaVvOkhtQG"
      },
      "source": [
        "Problem 8\n",
        "\n",
        "Create an instance of a class to store student details such as Sem, Institute, Name, and usn where:\n",
        "\n",
        "1) Sem and Institute details should be class variables.\n",
        "\n",
        "2) Name and usn should be instance variables.\n",
        "\n",
        "And also, print the instance variable using the instance method and class variable using the class method, also use a static method to print an explanation about the class."
      ]
    },
    {
      "cell_type": "code",
      "metadata": {
        "id": "swbAb7TyiXhD"
      },
      "source": [
        "class Students:\n",
        "    sem = 3\n",
        "    institute = \"IIIT Dharwad\"\n",
        "\n",
        "    def __init__ (self, name, usn):\n",
        "        self.name = name\n",
        "        self.usn = usn\n",
        "    \n",
        "    def show_info (self):\n",
        "        print(f\"Name: {self.name}\")\n",
        "        print(f\"USN: {self.usn}\")\n",
        "    \n",
        "    @classmethod\n",
        "    def class_info(cls):\n",
        "        print(f\"Institute Name: {cls.institute}\")\n",
        "        print(f\"Semester: {cls.sem}\")\n",
        "    \n",
        "    @staticmethod\n",
        "    def msg():\n",
        "        print(f\"This class stores students' details.\")\n",
        "    \n"
      ],
      "execution_count": 1,
      "outputs": []
    },
    {
      "cell_type": "code",
      "metadata": {
        "colab": {
          "base_uri": "https://localhost:8080/",
          "height": 0
        },
        "id": "g2PxtrFDGJJA",
        "outputId": "5182c590-dd7b-4041-819a-b56796c26303"
      },
      "source": [
        "s1 = Students(\"Ron\", \"20bcs000\")\n",
        "s1.msg()\n",
        "s1.class_info()\n",
        "s1.show_info()\n"
      ],
      "execution_count": 2,
      "outputs": [
        {
          "output_type": "stream",
          "name": "stdout",
          "text": [
            "This class stores students' details.\n",
            "Institute Name: IIIT Dharwad\n",
            "Semester: 3\n",
            "Name: Ron\n",
            "USN: 20bcs000\n"
          ]
        }
      ]
    },
    {
      "cell_type": "markdown",
      "metadata": {
        "id": "eOOICqV8GtEI"
      },
      "source": [
        "Problem 9\n",
        "\n",
        "Write a python program to create a student class with the variable Name, Roll no, and Sem, also the student is having a laptop create an instance of an inner class laptop with variable cpu, Ram, and hard disk and display details. Also, create multiple objects for the inner class laptop."
      ]
    },
    {
      "cell_type": "code",
      "metadata": {
        "id": "A3N2xSBuG-Ar"
      },
      "source": [
        "class Student:\n",
        "    def __init__(self, name, roll_no, sem, cpu, ram, hard_disc):\n",
        "        self.name = name\n",
        "        self.roll_no = roll_no\n",
        "        self.sem = sem\n",
        "        self.lp = self.Laptop(cpu, ram, hard_disc)\n",
        "    \n",
        "    def show_info(self):\n",
        "        print(f\"Name: {self.name}\")\n",
        "        print(f\"Sem :{self.sem}\")\n",
        "        print(f\"Roll no: {self.roll_no}\")\n",
        "        print(\"\\nLaptop Info:\")\n",
        "        self.lp.show_info()\n",
        "\n",
        "    class Laptop:\n",
        "        def __init__(self, cpu, ram, hard_disc):\n",
        "            self.cpu = cpu\n",
        "            self.ram = ram\n",
        "            self.hard_disc = hard_disc\n",
        "        \n",
        "        def show_info(self):\n",
        "            print(f\"CPU: {self.cpu}\")\n",
        "            print(f\"RAM: {self.ram}\")\n",
        "            print(f\"Hard Disc: {self.hard_disc}\")\n",
        "        \n",
        "    \n"
      ],
      "execution_count": 10,
      "outputs": []
    },
    {
      "cell_type": "code",
      "metadata": {
        "colab": {
          "base_uri": "https://localhost:8080/",
          "height": 0
        },
        "id": "JKjZk0GxKGir",
        "outputId": "e86cd8bc-ba75-49ab-c788-826e5ad89271"
      },
      "source": [
        "s1 = Student(\"Ron\", \"20bcs000\", 3, \"x\", \"y\", \"z\")\n",
        "s1.show_info()"
      ],
      "execution_count": 11,
      "outputs": [
        {
          "output_type": "stream",
          "name": "stdout",
          "text": [
            "Name: Ron\n",
            "Sem :3\n",
            "Roll no: 20bcs000\n",
            "\n",
            "Laptop Info:\n",
            "CPU: x\n",
            "RAM: y\n",
            "Hard Disc: z\n"
          ]
        }
      ]
    }
  ]
}