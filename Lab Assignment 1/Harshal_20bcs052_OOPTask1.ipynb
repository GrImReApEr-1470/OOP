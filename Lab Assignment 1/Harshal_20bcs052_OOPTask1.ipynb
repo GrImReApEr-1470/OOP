{
  "nbformat": 4,
  "nbformat_minor": 0,
  "metadata": {
    "colab": {
      "name": "Harshal_20bcs052_OOPTask1.ipynb",
      "provenance": [],
      "toc_visible": true,
      "authorship_tag": "ABX9TyOKwayejrBS5EH1sdzv75H4",
      "include_colab_link": true
    },
    "kernelspec": {
      "name": "python3",
      "display_name": "Python 3"
    },
    "language_info": {
      "name": "python"
    }
  },
  "cells": [
    {
      "cell_type": "markdown",
      "metadata": {
        "id": "view-in-github",
        "colab_type": "text"
      },
      "source": [
        "<a href=\"https://colab.research.google.com/github/GrImReApEr-1470/OOP/blob/main/Lab%20Assignment%201/Harshal_20bcs052_OOPTask1.ipynb\" target=\"_parent\"><img src=\"https://colab.research.google.com/assets/colab-badge.svg\" alt=\"Open In Colab\"/></a>"
      ]
    },
    {
      "cell_type": "markdown",
      "metadata": {
        "id": "EHFEkc6XSbXE"
      },
      "source": [
        "Problem-I\n",
        "\n",
        "An extra day is added to the calendar almost every four years as February 29, and the day is\n",
        "called a leap day. It corrects the calendar for the fact that our planet takes approximately 365.25\n",
        "days to orbit the sun. A leap year contains a leap day.\n",
        "In the Gregorian calendar, three conditions are used to identify leap years:\n",
        "1. The year can be evenly divided by 4, is a leap year, unless:\n",
        "2. The year can be evenly divided by 100, it is NOT a leap year, unless:\n",
        "3. The year is also evenly divisible by 400. Then it is a leap year.\n",
        "\n",
        "Write function to decide whether it is a leap year. If it is a leap year, return the Boolean True,\n",
        "otherwise return False."
      ]
    },
    {
      "cell_type": "code",
      "metadata": {
        "id": "jcmcWX_CSN9w"
      },
      "source": [
        "def isLeap(year):\n",
        "  if year % 400 == 0:\n",
        "    return True\n",
        "  elif year % 100 == 0:\n",
        "    return False\n",
        "  elif year % 4 == 0:\n",
        "    return True\n",
        "  else:\n",
        "    return False\n"
      ],
      "execution_count": 6,
      "outputs": []
    },
    {
      "cell_type": "code",
      "metadata": {
        "colab": {
          "base_uri": "https://localhost:8080/"
        },
        "id": "oZL154MSUdPw",
        "outputId": "17cc3406-5ece-4e97-daf2-52822d14f0e8"
      },
      "source": [
        "print(isLeap(2100))\n",
        "print(isLeap(2000))\n",
        "print(isLeap(2021))\n",
        "print(isLeap(2020))\n",
        "print(isLeap(4000))"
      ],
      "execution_count": 9,
      "outputs": [
        {
          "output_type": "stream",
          "name": "stdout",
          "text": [
            "False\n",
            "True\n",
            "False\n",
            "True\n",
            "True\n"
          ]
        }
      ]
    },
    {
      "cell_type": "markdown",
      "metadata": {
        "id": "fXcgmR7oVutK"
      },
      "source": [
        "Problem-II\n",
        "\n",
        "Given an integer ‘n’, write a python code to perform the following conditional actions:\n",
        "1. If ‘n’ is odd, print Weird\n",
        "2. If ‘n’ is even and in the inclusive range of 2 to 5, print Not Weird\n",
        "3. If ‘n’ is even and in the inclusive range of 6 to 20, print Weird\n",
        "4. If ‘n’ is even and greater than 20, print Not Weird"
      ]
    },
    {
      "cell_type": "code",
      "metadata": {
        "colab": {
          "base_uri": "https://localhost:8080/"
        },
        "id": "2l37AhqtVy96",
        "outputId": "03d50f2f-f430-41ec-bc49-baaef0100a21"
      },
      "source": [
        "def a(n):\n",
        "  if n % 2 == 1:\n",
        "    print(\"Weird\")\n",
        "  else:\n",
        "    if 2 <= n <= 5:\n",
        "      print(\"Not Weird\")\n",
        "    elif 6 <= n <= 20:\n",
        "      print(\"Weird\")\n",
        "    else:\n",
        "      print(\"Not Weird\")\n",
        "\n",
        "a(100)\n",
        "a(10)\n",
        "a(5)\n",
        "a(4)\n",
        "a(15)"
      ],
      "execution_count": 10,
      "outputs": [
        {
          "output_type": "stream",
          "name": "stdout",
          "text": [
            "Not Weird\n",
            "Weird\n",
            "Weird\n",
            "Not Weird\n",
            "Weird\n"
          ]
        }
      ]
    },
    {
      "cell_type": "markdown",
      "metadata": {
        "id": "1fYk7ITxXiBp"
      },
      "source": [
        "Problem-III\n",
        "\n",
        "The following list represents a party with 7 guests, in which ‘Hardik’ showed up first and\n",
        "‘Rahane’ was the last to arrive:\n",
        "> Arrivals = [&#39;Hardik&#39;, &#39;Rahul&#39;, &#39;Virat&#39;, &#39;Rishabh’, ‘Mahi’ &#39;Rohit&#39;, &#39;Rahane&#39;]\n",
        "\n",
        "A guest is considered &#39;fashionably late&#39; if they arrived after at least half of the party&#39;s guests.\n",
        "However, they must not be the very last guest (that&#39;s taking it too far). In the above example,\n",
        "‘rishabh’, ‘Mahi’ and ‘Rohit’ are the only guests who were fashionably late.\n",
        "\n",
        "Write the function which takes a list of party attendees as well as a person, and tells us whether\n",
        "that person is fashionably late."
      ]
    },
    {
      "cell_type": "code",
      "metadata": {
        "id": "ynhVZlq8YY-2"
      },
      "source": [
        "def isLate(arrivals, person):\n",
        "  if arrivals.index(person) >= (len(arrivals))//2 and arrivals[-1] != person:\n",
        "    print(f\"{person} is fashionably late.\")\n",
        "  else:\n",
        "    print(f\"{person} is not fashionably late.\")\n"
      ],
      "execution_count": 27,
      "outputs": []
    },
    {
      "cell_type": "code",
      "metadata": {
        "colab": {
          "base_uri": "https://localhost:8080/"
        },
        "id": "NNJxcPejaqib",
        "outputId": "48afae2f-7838-49c3-8247-8d1277f8b8d0"
      },
      "source": [
        "arrivals = ['Hardik', 'Rahul', 'Virat', 'Rishabh', 'Mahi', 'Rohit', 'Rahane']\n",
        "\n",
        "for i in arrivals:\n",
        "  isLate(arrivals, i)\n"
      ],
      "execution_count": 30,
      "outputs": [
        {
          "output_type": "stream",
          "name": "stdout",
          "text": [
            "Hardik is not fashionably late.\n",
            "Rahul is not fashionably late.\n",
            "Virat is not fashionably late.\n",
            "Rishabh is fashionably late.\n",
            "Mahi is fashionably late.\n",
            "Rohit is fashionably late.\n",
            "Rahane is not fashionably late.\n"
          ]
        }
      ]
    },
    {
      "cell_type": "markdown",
      "metadata": {
        "id": "rvWy-HlAdGLg"
      },
      "source": [
        "Problem-IV\n",
        "\n",
        "A researcher has gathered thousands of news articles. But she wants to focus her attention on\n",
        "articles including a specific word. Write a function to help her filter her list of articles.\n",
        "Your function should meet the following criteria:\n",
        "1. Do not include documents where the keyword string shows up only as a part of a larger\n",
        "word. For example, if she were looking for the keyword “closed”, you would not include\n",
        "the string “enclosed.”\n",
        "2. She does not want you to distinguish upper case from lower case letters. So the phrase\n",
        "“Closed the case.” would be included when the keyword is “closed”\n",
        "3. Do not let periods or commas affect what is matched. “It is closed.” would be included\n",
        "when the keyword is “closed”. But you can assume there are no other types of\n",
        "punctuation.\n",
        "\n",
        "Assume, doc_list = [&quot;The Learn Python Challenge Rohit.&quot;, &quot;They bought a car&quot;, &quot;bangalore&quot;]"
      ]
    },
    {
      "cell_type": "code",
      "metadata": {
        "id": "xIPcMr4Fd-za"
      },
      "source": [
        "def findWord(articles, keyword):\n",
        "  keyword = keyword.lower()\n",
        "  print(f\"List of matching articles with the word \\\"{keyword}\\\":\\n\")\n",
        "  for i in articles:\n",
        "    j = \" \" + i.lower() + \" \"\n",
        "    if ((\" \"+keyword+\" \") in j) or ((\" \"+keyword+\". \") in j) or ((\" \"+keyword+\", \") in j):\n",
        "      print(\"\\t\", i)\n",
        "  print(\"\\n\\n\")"
      ],
      "execution_count": 62,
      "outputs": []
    },
    {
      "cell_type": "code",
      "metadata": {
        "colab": {
          "base_uri": "https://localhost:8080/"
        },
        "id": "zw9l_FOFt3zA",
        "outputId": "c44e8713-1a04-4939-b501-f760c42d6275"
      },
      "source": [
        "articles = [\"The Learn Python Challenge Rohit.\", \"Rohit bought a car\", \"bangalore\", ]\n",
        "\n",
        "findWord(articles, \"rohit\")\n",
        "findWord(articles, \"the\")\n",
        "findWord(articles, \"Bought\")"
      ],
      "execution_count": 64,
      "outputs": [
        {
          "output_type": "stream",
          "name": "stdout",
          "text": [
            "List of matching articles with the word \"rohit\":\n",
            "\n",
            "\t The Learn Python Challenge Rohit.\n",
            "\t Rohit bought a car\n",
            "\n",
            "\n",
            "\n",
            "List of matching articles with the word \"the\":\n",
            "\n",
            "\t The Learn Python Challenge Rohit.\n",
            "\n",
            "\n",
            "\n",
            "List of matching articles with the word \"bought\":\n",
            "\n",
            "\t Rohit bought a car\n",
            "\n",
            "\n",
            "\n"
          ]
        }
      ]
    },
    {
      "cell_type": "markdown",
      "metadata": {
        "id": "jfnfr9hN1go6"
      },
      "source": [
        "Problem-V\n",
        "\n",
        "An Employee&#39;s Basic Pay (BP) is to be read from user.\n",
        "DA is 40% of BP,\n",
        "HRA is 20% of BP.\n",
        "\n",
        "Write a function to calculate the Gross Pay (GP) (GP is computed as BP + DA + HRA.)"
      ]
    },
    {
      "cell_type": "code",
      "metadata": {
        "id": "Ea7vVd3H2UGG"
      },
      "source": [
        "def calculateGrossPay(BP):\n",
        "  DA = 40/100 * BP\n",
        "  HRA = 20/100 * BP\n",
        "\n",
        "  GP = BP + DA + HRA\n",
        "\n",
        "  return GP\n"
      ],
      "execution_count": 69,
      "outputs": []
    },
    {
      "cell_type": "code",
      "metadata": {
        "colab": {
          "base_uri": "https://localhost:8080/"
        },
        "id": "5JMpAvhX3Pdi",
        "outputId": "7abb9547-9e3b-4e79-d182-33db8fa1b1fe"
      },
      "source": [
        "print(f\"Gross Pay = {calculateGrossPay(100000)}\")\n",
        "print(f\"Gross Pay = {calculateGrossPay(50000)}\")\n",
        "print(f\"Gross Pay = {calculateGrossPay(160000)}\")"
      ],
      "execution_count": 70,
      "outputs": [
        {
          "output_type": "stream",
          "name": "stdout",
          "text": [
            "Gross Pay = 160000.0\n",
            "Gross Pay = 80000.0\n",
            "Gross Pay = 256000.0\n"
          ]
        }
      ]
    }
  ]
}